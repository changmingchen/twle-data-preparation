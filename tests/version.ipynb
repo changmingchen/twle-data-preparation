{
 "cells": [
  {
   "cell_type": "markdown",
   "metadata": {},
   "source": [
    "<div id=\"table-of-contents\" role=\"doc-toc\">\n",
    "<h2>Table of Contents</h2>\n",
    "<div id=\"text-table-of-contents\" role=\"doc-toc\">\n",
    "<ul>\n",
    "<li><a href=\"#org27b547d\">1. version</a></li>\n",
    "</ul>\n",
    "</div>\n",
    "</div>\n"
   ]
  },
  {
   "cell_type": "markdown",
   "metadata": {
    "il": null
   },
   "source": [
    "\n",
    "<a id=\"org27b547d\"></a>\n",
    "\n",
    "# version\n",
    "\n"
   ]
  },
  {
   "cell_type": "code",
   "execution_count": 1,
   "metadata": {},
   "outputs": [
    {
     "name": "stdout",
     "output_type": "stream",
     "text": [
      "0.10.2\n"
     ]
    }
   ],
   "source": [
    "\n",
    "import pdfplumber\n",
    "import pandas as pd\n",
    "\n",
    "print(pdfplumber.__version__)\n"
   ]
  }
 ],
 "metadata": {
  "il": null,
  "kernelspec": {
   "display_name": "Python 3 (ipykernel)",
   "language": "python",
   "name": "python3"
  },
  "language_info": {
   "codemirror_mode": {
    "name": "ipython",
    "version": 3
   },
   "file_extension": ".py",
   "mimetype": "text/x-python",
   "name": "python",
   "nbconvert_exporter": "python",
   "pygments_lexer": "ipython3",
   "version": "3.11.4"
  }
 },
 "nbformat": 4,
 "nbformat_minor": 4
}
